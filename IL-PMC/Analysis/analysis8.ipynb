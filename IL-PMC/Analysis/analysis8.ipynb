{
 "cells": [
  {
   "cell_type": "markdown",
   "metadata": {
    "id": "Qyxm9Zc-6r95"
   },
   "source": [
    "# Potential of Monolayer Charge\n",
    "\n",
    "## Analysis of DFT results"
   ]
  },
  {
   "cell_type": "markdown",
   "metadata": {
    "id": "4raHKT2V60cw"
   },
   "source": [
    "## Import packages"
   ]
  },
  {
   "cell_type": "code",
   "execution_count": 1,
   "metadata": {
    "colab": {
     "base_uri": "https://localhost:8080/"
    },
    "id": "89GnbWBz6s9Y",
    "outputId": "a72e5d38-73c6-4034-9f10-ad602a0f9d38"
   },
   "outputs": [
    {
     "name": "stdout",
     "output_type": "stream",
     "text": [
      "Requirement already satisfied: ase in /home/vlad/anaconda3/envs/dft/lib/python3.9/site-packages (3.22.1)\n",
      "Requirement already satisfied: scipy>=1.1.0 in /home/vlad/anaconda3/envs/dft/lib/python3.9/site-packages (from ase) (1.7.3)\n",
      "Requirement already satisfied: matplotlib>=3.1.0 in /home/vlad/anaconda3/envs/dft/lib/python3.9/site-packages (from ase) (3.5.1)\n",
      "Requirement already satisfied: numpy>=1.15.0 in /home/vlad/anaconda3/envs/dft/lib/python3.9/site-packages (from ase) (1.21.4)\n",
      "Requirement already satisfied: fonttools>=4.22.0 in /home/vlad/anaconda3/envs/dft/lib/python3.9/site-packages (from matplotlib>=3.1.0->ase) (4.38.0)\n",
      "Requirement already satisfied: packaging>=20.0 in /home/vlad/anaconda3/envs/dft/lib/python3.9/site-packages (from matplotlib>=3.1.0->ase) (21.3)\n",
      "Requirement already satisfied: cycler>=0.10 in /home/vlad/anaconda3/envs/dft/lib/python3.9/site-packages (from matplotlib>=3.1.0->ase) (0.11.0)\n",
      "Requirement already satisfied: pillow>=6.2.0 in /home/vlad/anaconda3/envs/dft/lib/python3.9/site-packages (from matplotlib>=3.1.0->ase) (9.2.0)\n",
      "Requirement already satisfied: kiwisolver>=1.0.1 in /home/vlad/anaconda3/envs/dft/lib/python3.9/site-packages (from matplotlib>=3.1.0->ase) (1.4.4)\n",
      "Requirement already satisfied: python-dateutil>=2.7 in /home/vlad/anaconda3/envs/dft/lib/python3.9/site-packages (from matplotlib>=3.1.0->ase) (2.8.2)\n",
      "Requirement already satisfied: pyparsing>=2.2.1 in /home/vlad/anaconda3/envs/dft/lib/python3.9/site-packages (from matplotlib>=3.1.0->ase) (3.0.9)\n",
      "Requirement already satisfied: six>=1.5 in /home/vlad/anaconda3/envs/dft/lib/python3.9/site-packages (from python-dateutil>=2.7->matplotlib>=3.1.0->ase) (1.16.0)\n",
      "Requirement already satisfied: matplotlib in /home/vlad/anaconda3/envs/dft/lib/python3.9/site-packages (3.5.1)\n",
      "Collecting matplotlib\n",
      "  Downloading matplotlib-3.7.1-cp39-cp39-manylinux_2_17_x86_64.manylinux2014_x86_64.whl (11.6 MB)\n",
      "\u001b[2K     \u001b[90m━━━━━━━━━━━━━━━━━━━━━━━━━━━━━━━━━━━━━━━━\u001b[0m \u001b[32m11.6/11.6 MB\u001b[0m \u001b[31m3.5 MB/s\u001b[0m eta \u001b[36m0:00:00\u001b[0m00:01\u001b[0m00:01\u001b[0m\n",
      "\u001b[?25hCollecting contourpy>=1.0.1\n",
      "  Using cached contourpy-1.0.7-cp39-cp39-manylinux_2_17_x86_64.manylinux2014_x86_64.whl (299 kB)\n",
      "Requirement already satisfied: kiwisolver>=1.0.1 in /home/vlad/anaconda3/envs/dft/lib/python3.9/site-packages (from matplotlib) (1.4.4)\n",
      "Requirement already satisfied: cycler>=0.10 in /home/vlad/anaconda3/envs/dft/lib/python3.9/site-packages (from matplotlib) (0.11.0)\n",
      "Requirement already satisfied: fonttools>=4.22.0 in /home/vlad/anaconda3/envs/dft/lib/python3.9/site-packages (from matplotlib) (4.38.0)\n",
      "Requirement already satisfied: packaging>=20.0 in /home/vlad/anaconda3/envs/dft/lib/python3.9/site-packages (from matplotlib) (21.3)\n",
      "Requirement already satisfied: pillow>=6.2.0 in /home/vlad/anaconda3/envs/dft/lib/python3.9/site-packages (from matplotlib) (9.2.0)\n",
      "Requirement already satisfied: pyparsing>=2.3.1 in /home/vlad/anaconda3/envs/dft/lib/python3.9/site-packages (from matplotlib) (3.0.9)\n",
      "Requirement already satisfied: numpy>=1.20 in /home/vlad/anaconda3/envs/dft/lib/python3.9/site-packages (from matplotlib) (1.21.4)\n",
      "Requirement already satisfied: importlib-resources>=3.2.0 in /home/vlad/anaconda3/envs/dft/lib/python3.9/site-packages (from matplotlib) (5.10.0)\n",
      "Requirement already satisfied: python-dateutil>=2.7 in /home/vlad/anaconda3/envs/dft/lib/python3.9/site-packages (from matplotlib) (2.8.2)\n",
      "Requirement already satisfied: zipp>=3.1.0 in /home/vlad/anaconda3/envs/dft/lib/python3.9/site-packages (from importlib-resources>=3.2.0->matplotlib) (3.10.0)\n",
      "Requirement already satisfied: six>=1.5 in /home/vlad/anaconda3/envs/dft/lib/python3.9/site-packages (from python-dateutil>=2.7->matplotlib) (1.16.0)\n",
      "Installing collected packages: contourpy, matplotlib\n",
      "  Attempting uninstall: matplotlib\n",
      "    Found existing installation: matplotlib 3.5.1\n",
      "    Uninstalling matplotlib-3.5.1:\n",
      "      Successfully uninstalled matplotlib-3.5.1\n",
      "Successfully installed contourpy-1.0.7 matplotlib-3.7.1\n"
     ]
    }
   ],
   "source": [
    "! pip install ase\n",
    "! pip install matplotlib --upgrade\n",
    "\n",
    "from ase import Atoms\n",
    "from ase.db import connect\n",
    "from ase.io import write, read\n",
    "from ase.data import atomic_numbers\n",
    "from os import listdir\n",
    "import os\n",
    "from os.path import isfile, join\n",
    "from sympy import *\n",
    "\n",
    "import matplotlib.pyplot as plt\n",
    "import numpy as np\n",
    "import pandas as pd\n",
    "import math\n",
    "import re\n",
    "from sklearn.linear_model import LinearRegression\n",
    "from matplotlib.ticker import MultipleLocator\n",
    "from collections import defaultdict"
   ]
  },
  {
   "cell_type": "markdown",
   "metadata": {
    "id": "qf_YCnPP61Vw"
   },
   "source": [
    "## Constants"
   ]
  },
  {
   "cell_type": "code",
   "execution_count": 2,
   "metadata": {
    "id": "13ACG8Zt6sth"
   },
   "outputs": [],
   "source": [
    "k = 1.9872041E-3  # kcal/mol/K\n",
    "rho = 0.03332819694513222\n",
    "el_chg = 1.60217662e-19 #coulomb\n",
    "Na = 6.02214129e23\n",
    "epsilon0 =  8.854187817e-12  #F/m\n",
    "eps0 = 0.0055263494 # el/V/A\n",
    "kcal_eV = 2.611448e22  # kcal/(eV)\n",
    "bohr2a = 0.529177 #A/bohr\n",
    "D2Cm =  3.33564*10**-30 #C*m\n",
    "au2D = 2.5417 #D\n",
    "debye2eAngs = 0.2081943# e*Angs\n",
    "A2nm=0.1\n",
    "hartree2V = 27.211386245988\n",
    "au2ev = 27.211384500"
   ]
  },
  {
   "cell_type": "markdown",
   "metadata": {
    "id": "z5wUBFjO65-Q"
   },
   "source": [
    "## Functions"
   ]
  },
  {
   "cell_type": "code",
   "execution_count": 3,
   "metadata": {
    "id": "i1NU9X9T9qvF"
   },
   "outputs": [],
   "source": [
    "def getSurfaceCoverage(area):\n",
    "  \"\"\"\n",
    "  Turn molecule area in Angs2 to surface coverage mol/cm2\n",
    "  \"\"\"\n",
    "  return (1/(area*10**-16))/Na"
   ]
  },
  {
   "cell_type": "code",
   "execution_count": 4,
   "metadata": {
    "id": "vLlbANvq6hJD"
   },
   "outputs": [],
   "source": [
    "def potential_at_a(a, z_array, rho_z):\n",
    "    \"\"\"Returns poteintial at point a, given a 1D-chg distribution (rho_z) \n",
    "    and points at which it was evaluated (z_array) \"\"\"\n",
    "    to_integrate = z_array < a\n",
    "    dz = z_array[1] - z_array[0]\n",
    "    integrand = 0\n",
    "    for z_i, rho_zi in zip(z_array[to_integrate], rho_z[to_integrate]):\n",
    "        integrand += (a - z_i)*rho_zi\n",
    "    return -1/eps0*integrand*dz"
   ]
  },
  {
   "cell_type": "code",
   "execution_count": 5,
   "metadata": {
    "id": "udTPTFWZ7AEv"
   },
   "outputs": [],
   "source": [
    "\"\"\"\n",
    "Class to read in data of one surface that corresponds to some optimal distribution of particles on the electrode surface\n",
    "\"\"\"\n",
    "class SurfaceED:\n",
    "    def __init__(self, dataRow, calculationType=\"PW\", shift=0):\n",
    "        \n",
    "        self.calculationType = calculationType\n",
    "        #Additions to select right columns\n",
    "        if calculationType == \"LCAO\":\n",
    "          _calcType=[\"lcao_\",\"lcao_\"] #First is how separate components were calculated, second is how the interface was calculated\n",
    "        elif calculationType == \"cDFT\":\n",
    "          _calcType = [\"lcao_\",\"cdft_\"]\n",
    "        else:\n",
    "          _calcType = [\"\",\"\"]\n",
    "        \n",
    "        self.sysName = str(dataRow[\"electrode\"])+\"_\"+str(dataRow[\"ads_name\"])\n",
    "        shift = shift #Angs shifting charge density profiles to not have discontinuity\n",
    "        \n",
    "        #First get substrate+electrode data\n",
    "        self.electrodeArea = float(dataRow[\"area\"])\n",
    "\n",
    "        self.z_Ed=np.array(dataRow[\"sys_\"+_calcType[1]+\"den_zax\"][1:]).astype(float)\n",
    "        self.dz_Ed = float(self.z_Ed[2]-self.z_Ed[1]) #Angstroms\n",
    "        shiftIndex = int(shift//self.dz_Ed)\n",
    "        self.sysEd = np.array(dataRow[\"sys_\"+_calcType[1]+\"den_val\"][1:]).astype(float)\n",
    "        self.sysEd = np.r_[self.sysEd[-shiftIndex:], self.sysEd[:-shiftIndex]]\n",
    "        \n",
    "        #Get substrate data\n",
    "        self.adsEd = np.array(dataRow[\"ads_\"+_calcType[0]+\"den_val\"][1:]).astype(float)\n",
    "        self.adsEd = np.r_[self.adsEd[-shiftIndex:], self.adsEd[:-shiftIndex]]\n",
    "        \n",
    "        #Get electrode data\n",
    "        self.metEd = np.array(dataRow[\"met_\"+_calcType[0]+\"den_val\"][1:]).astype(float)\n",
    "        self.metEd = np.r_[self.metEd[-shiftIndex:], self.metEd[:-shiftIndex]]\n",
    "        #Calculate charge density change\n",
    "        self.chgChange = -(self.sysEd - self.adsEd - self.metEd)\n",
    "        \n",
    "        #Calculate potential change \n",
    "        self.potentialProfileEdDiff = [potential_at_a(a, self.z_Ed, self.chgChange) for a in self.z_Ed] #V\n",
    "        self.potDropEdDiff = self.potentialProfileEdDiff[0]-self.potentialProfileEdDiff[-1]\n",
    "        self.potentialProfileHartree = np.array(dataRow[\"sys_\"+_calcType[1]+\"pot_val\"][1:]).astype(float) #V\n",
    "        self.potDropHartree = -(self.potentialProfileHartree[int(len(self.z_Ed)*0.06)]-self.potentialProfileHartree[int(len(self.z_Ed)*0.95)])\n",
    "        self.z_Hartree = np.array(dataRow[\"sys_\"+_calcType[1]+\"pot_zax\"][1:]).astype(float)\n",
    "\n",
    "        #Get data related to electrode positions and molecule positions\n",
    "        metalIndexes = np.asarray(dataRow.numbers)==atomic_numbers[dataRow.electrode]\n",
    "        moleculeIndexes = np.asarray(dataRow.numbers)!=atomic_numbers[dataRow.electrode]\n",
    "        self.metalSheetPositions = np.unique(dataRow.positions[:,2][metalIndexes].round(decimals=4))\n",
    "        self.moleculeFirstPosition = np.min(dataRow.positions[:,2][moleculeIndexes])\n",
    "        self.moleculeMeanPosition = np.mean(dataRow.positions[:,2][moleculeIndexes])\n",
    "        \n",
    "        #Identifying last layer\n",
    "        roundedMetalSheetPosition = self.metalSheetPositions.round(0)\n",
    "        lastLayerRounded = np.unique(roundedMetalSheetPosition)[-1]\n",
    "        positionsOfLastLayer = self.metalSheetPositions[roundedMetalSheetPosition==lastLayerRounded]\n",
    "        self.metalSheetLastLayerAveragePosition = np.mean(positionsOfLastLayer)\n",
    "        self.distanceBetweenElectrodeLayers = self.metalSheetPositions[1]-self.metalSheetPositions[0]\n",
    "        self.distanceBetweenMetalMoleculeGeometric = self.moleculeMeanPosition - self.metalSheetLastLayerAveragePosition - self.distanceBetweenElectrodeLayers/2\n",
    "\n",
    "\n",
    "        #Estimate different positions from charge density\n",
    "        self.metalChargeMaximaPosition = self.estimateMetalChargeMaxima()\n",
    "        self.metalMoleculeBoundary = self.estimateMetalMoleculeBoundary()\n",
    "\n",
    "        #Estimate the electrode and molecule charge density\n",
    "        self.metalCharge = np.sum(self.chgChange[self.z_Ed<self.metalMoleculeBoundary])*self.dz_Ed #e/Å^2\n",
    "        self.metalCharge = self.metalCharge*el_chg*(10**6)/(10**-16) #μC/cm²\n",
    "        self.moleculeCharge = np.sum(self.chgChange[self.z_Ed>self.metalMoleculeBoundary])*self.dz_Ed #e/Å^2\n",
    "        self.moleculeCharge = self.moleculeCharge*el_chg*(10**6)/(10**-16) #μC/cm²\n",
    "\n",
    "        self.moleculePosition = self.estimateMoleculeLocationFromChargeDensity()\n",
    "        self.metalChargePlanePosition = self.estimateMetalChargePlane()\n",
    "        self.distanceBetweenMetalMolecule = self.moleculePosition - self.metalChargePlanePosition\n",
    "\n",
    "\n",
    "\n",
    "    def estimateMetalChargeMaxima(self):\n",
    "        #Estimate metal charge maxima plane\n",
    "        #Limits are the position of last Electrode sheet and half the distance to molecule position\n",
    "        mask = np.nonzero((self.z_Ed>self.metalSheetPositions[-1]) & (self.z_Ed<0.5*(self.moleculeFirstPosition+self.metalSheetPositions[-1])))[0]\n",
    "        z_axis_fragment = self.z_Ed[mask]\n",
    "        chgChange_fragment = self.chgChange[mask]\n",
    "        #Take absolute value\n",
    "        chgDensMax = np.argmax(abs(chgChange_fragment))\n",
    "        metalChargeMaximaPosition = z_axis_fragment[chgDensMax]\n",
    "        return metalChargeMaximaPosition\n",
    "    \n",
    "    def estimateMetalMoleculeBoundary(self):\n",
    "        #Estimate the position, where the charge is 0 between metal and molecule\n",
    "        #Limits are the position charge plane and the molecule position\n",
    "        mask = np.nonzero((self.z_Ed>self.metalChargeMaximaPosition) & (self.z_Ed<self.moleculeFirstPosition))[0]\n",
    "        z_axis_fragment = self.z_Ed[mask]\n",
    "        chgChange_fragment = self.chgChange[mask]\n",
    "        #Take absolute value\n",
    "        chgDensMax = np.argmin(abs(chgChange_fragment))\n",
    "        metalMoleculeBoundary = z_axis_fragment[chgDensMax]\n",
    "        return metalMoleculeBoundary\n",
    "\n",
    "    def estimateMoleculeLocationFromChargeDensity(self):\n",
    "        #Estimate the position of molecule by weighted average of charge density\n",
    "        mask = self.z_Ed>self.metalMoleculeBoundary\n",
    "        weights = np.abs(self.chgChange[mask])\n",
    "        weights = weights/np.sum(weights)\n",
    "        moleculePosition = np.sum(weights*self.z_Ed[mask])\n",
    "        return moleculePosition\n",
    "\n",
    "    def estimateMetalChargePlane(self):\n",
    "        #Estimate the position of metal charge plane by weighted average of charge density\n",
    "        #First, when summing the charges from right to left, there must be a point, where\n",
    "        #overall charge is 0, this will be the lower limit of Metal Plane position\n",
    "        \n",
    "        reverseChgChange = self.chgChange[::-1]\n",
    "        reverseZ = self.z_Ed[::-1]\n",
    "        #Check the charge you expect\n",
    "        isMoleculeNegative = self.moleculeCharge < 0\n",
    "        #Set molecule side always positive\n",
    "        if isMoleculeNegative:\n",
    "          reverseChgChange=-reverseChgChange\n",
    "        \n",
    "        cumulativeCharge = 0\n",
    "        metalChargePlaneLowerLimit = 0\n",
    "        for i in range(len(reverseZ)):\n",
    "          cumulativeCharge+=reverseChgChange[i]\n",
    "          if(reverseZ[i]<self.metalMoleculeBoundary and cumulativeCharge<0):\n",
    "            metalChargePlaneLowerLimit = reverseZ[i]\n",
    "            break\n",
    "\n",
    "        #Now estimating the molecule charge plane by taking the weighted average\n",
    "        #of chgDensity between found lower limit and metal molecule boundary\n",
    "        mask = np.nonzero((self.z_Ed>metalChargePlaneLowerLimit) & (self.z_Ed<self.metalMoleculeBoundary))[0]\n",
    "        z_axis_fragment = self.z_Ed[mask]\n",
    "        chgChange_fragment = self.chgChange[mask]\n",
    "        weights = np.abs(chgChange_fragment)\n",
    "        weights = weights/np.sum(weights)\n",
    "        metalPosition = np.sum(weights*z_axis_fragment)\n",
    "        return metalPosition        \n",
    "\n"
   ]
  },
  {
   "cell_type": "code",
   "execution_count": 6,
   "metadata": {
    "id": "fXeR57fAcN9R"
   },
   "outputs": [],
   "source": [
    "\"\"\"\n",
    "Class to read in data of one system\n",
    "\"\"\"\n",
    "class SurfaceDDECAnalysis:\n",
    "    def __init__(self, dataRow, calculationType=\"PW\", shift=0):\n",
    "\n",
    "        self.calculationType = calculationType\n",
    "        #Additions to select right columns\n",
    "        if calculationType == \"LCAO\":\n",
    "          _calcType= \"lcao_\"\n",
    "        elif calculationType == \"cDFT\":\n",
    "          _calcType = \"cdft_\"\n",
    "        else:\n",
    "          _calcType = \"\"\n",
    "\n",
    "        self.sysName = str(dataRow.electrode)+\"_\"+str(dataRow.ads_name)\n",
    "        shift = shift #Angs shifting charge density profiles to avoid discontinuity\n",
    "\n",
    "        ## Estimate electrode charge density\n",
    "        charges = dataRow[\"sys_\"+_calcType+\"chg_val\"]\n",
    "        self.electrodeArea = float(dataRow.area)\n",
    "        self.metalIndexes = np.asarray(dataRow.numbers)==atomic_numbers[dataRow.electrode]\n",
    "        metCharges = np.array(charges)[self.metalIndexes]\n",
    "        self.electrodeChargeDensity = np.sum(metCharges)/self.electrodeArea #e/Å\n",
    "        self.electrodeChargeDensity = self.electrodeChargeDensity*el_chg*(10**6)/(10**-16) #μC/cm²\n",
    "\n",
    "        ## Estimate potential profile\n",
    "        zCoords = dataRow.positions[:,2]\n",
    "        self.bin_size=0.01 #A\n",
    "        ##Order atoms according to their z-coordinate \n",
    "        snap_z_sort=[]\n",
    "        snap_c_sort=[]\n",
    "        snap_k_sort=[]\n",
    "        indexes=np.argsort(zCoords)\n",
    "        for index in indexes:\n",
    "            snap_z_sort+=[zCoords[index]]\n",
    "            snap_c_sort+=[charges[index]]\n",
    "\n",
    "        ##Divide charges of atoms into bins to get charge density\n",
    "        z_bin=np.arange(0, 60, self.bin_size)\n",
    "        c_b=[0]*len(z_bin)\n",
    "        for l in range(len(snap_z_sort)):\n",
    "            c_b[int(snap_z_sort[l]//self.bin_size)]+=snap_c_sort[l]\n",
    "\n",
    "        self.chgDensityDDEC = np.asarray(c_b)/(self.bin_size*self.electrodeArea) #e/Å³ #Divide charges by bin size to get charge density\n",
    "        self.z_bin = z_bin\n",
    "        self.potentialDDEC = [potential_at_a(a, self.z_bin, self.chgDensityDDEC) for a in self.z_bin] #V\n",
    "        self.potDropDDEC = self.potentialDDEC[0]-self.potentialDDEC[-1] #V"
   ]
  },
  {
   "cell_type": "markdown",
   "metadata": {
    "id": "5wMQHW-C15aZ"
   },
   "source": [
    "## Matplotlib settings"
   ]
  },
  {
   "cell_type": "code",
   "execution_count": 7,
   "metadata": {
    "id": "sRPh2ODg14Ot"
   },
   "outputs": [],
   "source": [
    "pd.options.mode.chained_assignment = None  # default='warn'\n",
    "\n",
    "plt.rc('font',        size=10)  # controls default text sizes\n",
    "plt.rc('axes',   titlesize=10)  # fontsize of the axes title\n",
    "plt.rc('axes',   labelsize=9)   # fontsize of the x and y labels\n",
    "plt.rc('xtick',  labelsize=8)   # fontsize of the tick labels\n",
    "plt.rc('ytick',  labelsize=8)   # fontsize of the tick labels\n",
    "plt.rc('legend', fontsize =8)   # legend fontsize\n",
    "plt.rc('figure', titlesize=10)  # fontsize of the figure title\n",
    "plt.rc('figure', facecolor='w') # white background"
   ]
  },
  {
   "cell_type": "markdown",
   "metadata": {
    "id": "hcLpNHmrEWNr"
   },
   "source": [
    "### Color and shape data"
   ]
  },
  {
   "cell_type": "code",
   "execution_count": 8,
   "metadata": {
    "id": "PJ3sJ4gZETgq"
   },
   "outputs": [],
   "source": [
    "colorDict = defaultdict(lambda: \"black\")\n",
    "colorDict[\"N\"] = \"blue\"\n",
    "colorDict[\"S\"] = \"yellow\"\n",
    "colorDict[\"O\"] = \"red\""
   ]
  },
  {
   "cell_type": "markdown",
   "metadata": {
    "id": "UU9zfBGw7Iv-"
   },
   "source": [
    "## Mount drive"
   ]
  },
  {
   "cell_type": "code",
   "execution_count": 10,
   "metadata": {
    "colab": {
     "base_uri": "https://localhost:8080/"
    },
    "id": "2DqtX4Z07JfX",
    "outputId": "88e03141-3b23-4d30-e073-e8d3734da933"
   },
   "outputs": [],
   "source": [
    "#from google.colab import drive\n",
    "#drive.mount('/content/drive')\n",
    "#path = '/content/drive/MyDrive/TartuPorto/DATA/IONS-PSC-PRL'\n",
    "path = './'"
   ]
  },
  {
   "cell_type": "code",
   "execution_count": 11,
   "metadata": {
    "id": "RU6dcFeW7JWn"
   },
   "outputs": [],
   "source": [
    "# Connect an ASE database with all results\n",
    "db = connect(os.path.join(path,'pmc8.db'))"
   ]
  },
  {
   "cell_type": "code",
   "execution_count": 12,
   "metadata": {
    "id": "Kl6BGN-37JDf"
   },
   "outputs": [],
   "source": [
    "# Convert the data into a panda dataframe\n",
    "columnNames = ['version',\n",
    "              'electrode',\n",
    "              'ads_name',\n",
    "              'ads_enrg',\n",
    "              'ads_disp',\n",
    "              'ads_chg',\n",
    "              'ads_dist',\n",
    "              'area',\n",
    "              'face',\n",
    "              'mode',\n",
    "              'size',\n",
    "              'sigma',\n",
    "              'numbers',\n",
    "              'positions',\n",
    "              'sys_chg_val',\n",
    "              'sys_dip_val',\n",
    "              'sys_pot_zax',\n",
    "              'sys_pot_val',\n",
    "              'sys_den_zax',\n",
    "              'sys_den_val',\n",
    "              'ads_den_zax',\n",
    "              'ads_den_val',\n",
    "              'met_den_zax',\n",
    "              'met_den_val',\n",
    "              'sys_lcao_chg_val',\n",
    "              'sys_lcao_dip_val',\n",
    "              'sys_lcao_pot_zax',\n",
    "              'sys_lcao_pot_val',\n",
    "              'sys_lcao_den_zax',\n",
    "              'sys_lcao_den_val',\n",
    "              'ads_lcao_den_zax',\n",
    "              'ads_lcao_den_val',\n",
    "              'met_lcao_den_zax',\n",
    "              'met_lcao_den_val',\n",
    "              'sys_cdft_chg_val',\n",
    "              'sys_cdft_dip_val',\n",
    "              'sys_cdft_pot_zax',\n",
    "              'sys_cdft_pot_val',\n",
    "              'sys_cdft_den_zax',\n",
    "              'sys_cdft_den_val',\n",
    "            ]\n",
    "\n",
    "rdf  = pd.DataFrame(columns=columnNames)\n",
    "\n",
    "for row in db.select():\n",
    "    dt = pd.DataFrame(columns=columnNames,\n",
    "                      data=[[row.version,\n",
    "                             row.electrode,\n",
    "                             row.ads_name,\n",
    "                             row.ads_enrg,\n",
    "                             row.ads_disp,\n",
    "                             row.ads_chg,\n",
    "                             row.ads_dist,\n",
    "                             row.area,\n",
    "                             row.face,\n",
    "                             row.mode,\n",
    "                             row.size,\n",
    "                             row.sigma,\n",
    "                             row.numbers,\n",
    "                             row.positions,\n",
    "                             row.data.sys_chg_val,\n",
    "                             row.data.sys_dip_val,\n",
    "                             row.data.sys_pot_zax,\n",
    "                             row.data.sys_pot_val,\n",
    "                             row.data.sys_den_zax,\n",
    "                             row.data.sys_den_val,\n",
    "                             row.data.ads_den_zax,\n",
    "                             row.data.ads_den_val,\n",
    "                             row.data.met_den_zax,\n",
    "                             row.data.met_den_val,\n",
    "                             row.data.sys_lcao_chg_val,\n",
    "                             row.data.sys_lcao_dip_val,\n",
    "                             row.data.sys_lcao_pot_zax,\n",
    "                             row.data.sys_lcao_pot_val,\n",
    "                             row.data.sys_lcao_den_zax,\n",
    "                             row.data.sys_lcao_den_val,\n",
    "                             row.data.ads_lcao_den_zax,\n",
    "                             row.data.ads_lcao_den_val,\n",
    "                             row.data.met_lcao_den_zax,\n",
    "                             row.data.met_lcao_den_val,\n",
    "                             row.data.sys_cdft_chg_val,\n",
    "                             row.data.sys_cdft_dip_val,\n",
    "                             row.data.sys_cdft_pot_zax,\n",
    "                             row.data.sys_cdft_pot_val,\n",
    "                             row.data.sys_cdft_den_zax,\n",
    "                             row.data.sys_cdft_den_val,\n",
    "                            ]])\n",
    "    rdf = pd.concat([rdf, dt], ignore_index=True)"
   ]
  },
  {
   "cell_type": "code",
   "execution_count": 13,
   "metadata": {
    "colab": {
     "base_uri": "https://localhost:8080/",
     "height": 652
    },
    "id": "U7Ee-cV4pj6X",
    "outputId": "a3040876-e084-4985-e377-03c25e0d8895"
   },
   "outputs": [
    {
     "data": {
      "text/html": [
       "<div>\n",
       "<style scoped>\n",
       "    .dataframe tbody tr th:only-of-type {\n",
       "        vertical-align: middle;\n",
       "    }\n",
       "\n",
       "    .dataframe tbody tr th {\n",
       "        vertical-align: top;\n",
       "    }\n",
       "\n",
       "    .dataframe thead th {\n",
       "        text-align: right;\n",
       "    }\n",
       "</style>\n",
       "<table border=\"1\" class=\"dataframe\">\n",
       "  <thead>\n",
       "    <tr style=\"text-align: right;\">\n",
       "      <th></th>\n",
       "      <th>version</th>\n",
       "      <th>electrode</th>\n",
       "      <th>ads_name</th>\n",
       "      <th>ads_enrg</th>\n",
       "      <th>ads_disp</th>\n",
       "      <th>ads_chg</th>\n",
       "      <th>ads_dist</th>\n",
       "      <th>area</th>\n",
       "      <th>face</th>\n",
       "      <th>mode</th>\n",
       "      <th>...</th>\n",
       "      <th>ads_lcao_den_zax</th>\n",
       "      <th>ads_lcao_den_val</th>\n",
       "      <th>met_lcao_den_zax</th>\n",
       "      <th>met_lcao_den_val</th>\n",
       "      <th>sys_cdft_chg_val</th>\n",
       "      <th>sys_cdft_dip_val</th>\n",
       "      <th>sys_cdft_pot_zax</th>\n",
       "      <th>sys_cdft_pot_val</th>\n",
       "      <th>sys_cdft_den_zax</th>\n",
       "      <th>sys_cdft_den_val</th>\n",
       "    </tr>\n",
       "  </thead>\n",
       "  <tbody>\n",
       "    <tr>\n",
       "      <th>0</th>\n",
       "      <td>a</td>\n",
       "      <td>Au</td>\n",
       "      <td>C5N</td>\n",
       "      <td>-1.12</td>\n",
       "      <td>-0.82</td>\n",
       "      <td>0.568</td>\n",
       "      <td>2.9</td>\n",
       "      <td>66.09</td>\n",
       "      <td>fcc111</td>\n",
       "      <td>PW</td>\n",
       "      <td>...</td>\n",
       "      <td>[0.0909999590729343, 0.1819999181458687, 0.272...</td>\n",
       "      <td>[0.0, 0.0, 0.0, 0.0, 0.0, 0.0, 0.0, 0.0, 0.0, ...</td>\n",
       "      <td>[0.0909999590729343, 0.1819999181458687, 0.272...</td>\n",
       "      <td>[0.0, 0.0, 0.0, 0.0, 0.0, 0.0, 0.0, 0.0, 0.0, ...</td>\n",
       "      <td>[-0.010574, -0.013575, -0.01323, -0.014091, -0...</td>\n",
       "      <td>[-0.119266, -0.115112, -0.115232, -0.114678, -...</td>\n",
       "      <td>[0.091, 0.182, 0.273, 0.364, 0.454999999999999...</td>\n",
       "      <td>[2.7572299264265507, 2.757229480706091, 2.7572...</td>\n",
       "      <td>[0.0909999590729343, 0.1819999181458687, 0.272...</td>\n",
       "      <td>[0.0, 0.0, 0.0, 0.0, 0.0, 0.0, 0.0, 0.0, 0.0, ...</td>\n",
       "    </tr>\n",
       "    <tr>\n",
       "      <th>1</th>\n",
       "      <td>a</td>\n",
       "      <td>Au</td>\n",
       "      <td>C19O3v</td>\n",
       "      <td>-0.115</td>\n",
       "      <td>-2.22</td>\n",
       "      <td>0.484</td>\n",
       "      <td>3.14</td>\n",
       "      <td>117.5</td>\n",
       "      <td>fcc111</td>\n",
       "      <td>PW</td>\n",
       "      <td>...</td>\n",
       "      <td>[0.0909999590729343, 0.1819999181458687, 0.272...</td>\n",
       "      <td>[0.0, 0.0, 0.0, 0.0, 0.0, 0.0, 0.0, 0.0, 0.0, ...</td>\n",
       "      <td>[0.0909999590729343, 0.1819999181458687, 0.272...</td>\n",
       "      <td>[0.0, 0.0, 0.0, 0.0, 0.0, 0.0, 0.0, 0.0, 0.0, ...</td>\n",
       "      <td>[-0.036335, -0.039491, -0.009884, -0.011074, -...</td>\n",
       "      <td>[-0.164757, -0.162379, -0.11704, -0.116641, -0...</td>\n",
       "      <td>[0.091, 0.182, 0.273, 0.364, 0.454999999999999...</td>\n",
       "      <td>[1.5121774191639776, 1.5121771747126214, 1.512...</td>\n",
       "      <td>[0.0909999590729343, 0.1819999181458687, 0.272...</td>\n",
       "      <td>[0.0, 0.0, 0.0, 0.0, 0.0, 0.0, 0.0, 0.0, 0.0, ...</td>\n",
       "    </tr>\n",
       "    <tr>\n",
       "      <th>2</th>\n",
       "      <td>a</td>\n",
       "      <td>Au</td>\n",
       "      <td>C19N3v</td>\n",
       "      <td>-0.967</td>\n",
       "      <td>-2.392</td>\n",
       "      <td>0.707</td>\n",
       "      <td>3.08</td>\n",
       "      <td>117.5</td>\n",
       "      <td>fcc111</td>\n",
       "      <td>PW</td>\n",
       "      <td>...</td>\n",
       "      <td>[0.0909999590729343, 0.1819999181458687, 0.272...</td>\n",
       "      <td>[0.0, 0.0, 0.0, 0.0, 0.0, 0.0, 0.0, 0.0, 0.0, ...</td>\n",
       "      <td>[0.0909999590729343, 0.1819999181458687, 0.272...</td>\n",
       "      <td>[0.0, 0.0, 0.0, 0.0, 0.0, 0.0, 0.0, 0.0, 0.0, ...</td>\n",
       "      <td>[-0.058961, -0.047015, -0.00791, -0.023353, -0...</td>\n",
       "      <td>[-0.206343, -0.177474, -0.113878, -0.139782, -...</td>\n",
       "      <td>[0.091, 0.182, 0.273, 0.364, 0.454999999999999...</td>\n",
       "      <td>[1.3352875348058522, 1.3352873189496604, 1.335...</td>\n",
       "      <td>[0.0909999590729343, 0.1819999181458687, 0.272...</td>\n",
       "      <td>[0.0, 0.0, 0.0, 0.0, 0.0, 0.0, 0.0, 0.0, 0.0, ...</td>\n",
       "    </tr>\n",
       "    <tr>\n",
       "      <th>3</th>\n",
       "      <td>a</td>\n",
       "      <td>Au</td>\n",
       "      <td>C19N2Ov</td>\n",
       "      <td>-0.657</td>\n",
       "      <td>-2.34</td>\n",
       "      <td>0.669</td>\n",
       "      <td>3.08</td>\n",
       "      <td>117.5</td>\n",
       "      <td>fcc111</td>\n",
       "      <td>PW</td>\n",
       "      <td>...</td>\n",
       "      <td>[0.0909999590729343, 0.1819999181458687, 0.272...</td>\n",
       "      <td>[0.0, 0.0, 0.0, 0.0, 0.0, 0.0, 0.0, 0.0, 0.0, ...</td>\n",
       "      <td>[0.0909999590729343, 0.1819999181458687, 0.272...</td>\n",
       "      <td>[0.0, 0.0, 0.0, 0.0, 0.0, 0.0, 0.0, 0.0, 0.0, ...</td>\n",
       "      <td>[-0.035053, -0.024583, -0.009955, -0.024212, -...</td>\n",
       "      <td>[-0.164229, -0.137612, -0.114473, -0.137932, -...</td>\n",
       "      <td>[0.091, 0.182, 0.273, 0.364, 0.454999999999999...</td>\n",
       "      <td>[1.3457037466871309, 1.345703529147082, 1.3457...</td>\n",
       "      <td>[0.0909999590729343, 0.1819999181458687, 0.272...</td>\n",
       "      <td>[0.0, 0.0, 0.0, 0.0, 0.0, 0.0, 0.0, 0.0, 0.0, ...</td>\n",
       "    </tr>\n",
       "    <tr>\n",
       "      <th>4</th>\n",
       "      <td>a</td>\n",
       "      <td>Au</td>\n",
       "      <td>C23N</td>\n",
       "      <td>-0.506</td>\n",
       "      <td>-2.498</td>\n",
       "      <td>0.634</td>\n",
       "      <td>3.18</td>\n",
       "      <td>117.5</td>\n",
       "      <td>fcc111</td>\n",
       "      <td>PW</td>\n",
       "      <td>...</td>\n",
       "      <td>[0.0909999590729343, 0.1819999181458687, 0.272...</td>\n",
       "      <td>[0.0, 0.0, 0.0, 0.0, 0.0, 0.0, 0.0, 0.0, 0.0, ...</td>\n",
       "      <td>[0.0909999590729343, 0.1819999181458687, 0.272...</td>\n",
       "      <td>[0.0, 0.0, 0.0, 0.0, 0.0, 0.0, 0.0, 0.0, 0.0, ...</td>\n",
       "      <td>[-0.011597, -0.012592, -0.011897, -0.01151, -0...</td>\n",
       "      <td>[-0.119665, -0.118003, -0.118618, -0.1198, -0....</td>\n",
       "      <td>[0.091, 0.182, 0.273, 0.364, 0.454999999999999...</td>\n",
       "      <td>[1.4507972738779498, 1.4507970393489984, 1.450...</td>\n",
       "      <td>[0.0909999590729343, 0.1819999181458687, 0.272...</td>\n",
       "      <td>[0.0, 0.0, 0.0, 0.0, 0.0, 0.0, 0.0, 0.0, 0.0, ...</td>\n",
       "    </tr>\n",
       "    <tr>\n",
       "      <th>5</th>\n",
       "      <td>a</td>\n",
       "      <td>Au</td>\n",
       "      <td>C53N</td>\n",
       "      <td>-0.07</td>\n",
       "      <td>-5.438</td>\n",
       "      <td>0.914</td>\n",
       "      <td>3.15</td>\n",
       "      <td>264.37</td>\n",
       "      <td>fcc111</td>\n",
       "      <td>PW</td>\n",
       "      <td>...</td>\n",
       "      <td>[0.0909999590729343, 0.1819999181458687, 0.272...</td>\n",
       "      <td>[0.0, 0.0, 0.0, 0.0, 0.0, 0.0, 0.0, 0.0, 0.0, ...</td>\n",
       "      <td>[0.0909999590729343, 0.1819999181458687, 0.272...</td>\n",
       "      <td>[0.0, 0.0, 0.0, 0.0, 0.0, 0.0, 0.0, 0.0, 0.0, ...</td>\n",
       "      <td>[-0.034409, -0.018307, -0.012476, -0.013182, -...</td>\n",
       "      <td>[-0.151464, -0.133229, -0.11765, -0.117465, -0...</td>\n",
       "      <td>[0.091, 0.182, 0.273, 0.364, 0.454999999999999...</td>\n",
       "      <td>[0.5935904256941208, 0.5935903297370301, 0.593...</td>\n",
       "      <td>[0.0909999590729343, 0.1819999181458687, 0.272...</td>\n",
       "      <td>[0.0, 0.0, 0.0, 0.0, 0.0, 0.0, 0.0, 0.0, 0.0, ...</td>\n",
       "    </tr>\n",
       "    <tr>\n",
       "      <th>6</th>\n",
       "      <td>a</td>\n",
       "      <td>Au</td>\n",
       "      <td>C95N</td>\n",
       "      <td>7.46</td>\n",
       "      <td>-9.362</td>\n",
       "      <td>1.118</td>\n",
       "      <td>3.16</td>\n",
       "      <td>359.84</td>\n",
       "      <td>fcc111</td>\n",
       "      <td>PW</td>\n",
       "      <td>...</td>\n",
       "      <td>[0.0909999590729343, 0.1819999181458687, 0.272...</td>\n",
       "      <td>[0.0, 0.0, 0.0, 0.0, 0.0, 0.0, 0.0, 0.0, 0.0, ...</td>\n",
       "      <td>[0.0909999590729343, 0.1819999181458687, 0.272...</td>\n",
       "      <td>[0.0, 0.0, 0.0, 0.0, 0.0, 0.0, 0.0, 0.0, 0.0, ...</td>\n",
       "      <td>[-0.012195, -0.01341, -0.013687, -0.013358, -0...</td>\n",
       "      <td>[-0.119057, -0.118188, -0.118875, -0.11851, -0...</td>\n",
       "      <td>[0.091, 0.182, 0.273, 0.364, 0.454999999999999...</td>\n",
       "      <td>[0.3814100014847857, 0.3814099324190053, 0.381...</td>\n",
       "      <td>[0.0909999590729343, 0.1819999181458687, 0.272...</td>\n",
       "      <td>[0.0, 0.0, 0.0, 0.0, 0.0, 0.0, 0.0, 0.0, 0.0, ...</td>\n",
       "    </tr>\n",
       "    <tr>\n",
       "      <th>7</th>\n",
       "      <td>a</td>\n",
       "      <td>Au</td>\n",
       "      <td>C19NO2v</td>\n",
       "      <td>-0.39</td>\n",
       "      <td>-2.257</td>\n",
       "      <td>0.597</td>\n",
       "      <td>3.1</td>\n",
       "      <td>117.5</td>\n",
       "      <td>fcc111</td>\n",
       "      <td>PW</td>\n",
       "      <td>...</td>\n",
       "      <td>[0.0909999590729343, 0.1819999181458687, 0.272...</td>\n",
       "      <td>[0.0, 0.0, 0.0, 0.0, 0.0, 0.0, 0.0, 0.0, 0.0, ...</td>\n",
       "      <td>[0.0909999590729343, 0.1819999181458687, 0.272...</td>\n",
       "      <td>[0.0, 0.0, 0.0, 0.0, 0.0, 0.0, 0.0, 0.0, 0.0, ...</td>\n",
       "      <td>[-0.018601, -0.016589, -0.01077, -0.01653, -0....</td>\n",
       "      <td>[-0.135117, -0.125065, -0.117715, -0.125259, -...</td>\n",
       "      <td>[0.091, 0.182, 0.273, 0.364, 0.454999999999999...</td>\n",
       "      <td>[1.425775457593649, 1.4257752271096216, 1.4257...</td>\n",
       "      <td>[0.0909999590729343, 0.1819999181458687, 0.272...</td>\n",
       "      <td>[0.0, 0.0, 0.0, 0.0, 0.0, 0.0, 0.0, 0.0, 0.0, ...</td>\n",
       "    </tr>\n",
       "  </tbody>\n",
       "</table>\n",
       "<p>8 rows × 40 columns</p>\n",
       "</div>"
      ],
      "text/plain": [
       "  version electrode ads_name ads_enrg ads_disp ads_chg ads_dist    area  \\\n",
       "0       a        Au      C5N    -1.12    -0.82   0.568      2.9   66.09   \n",
       "1       a        Au   C19O3v   -0.115    -2.22   0.484     3.14   117.5   \n",
       "2       a        Au   C19N3v   -0.967   -2.392   0.707     3.08   117.5   \n",
       "3       a        Au  C19N2Ov   -0.657    -2.34   0.669     3.08   117.5   \n",
       "4       a        Au     C23N   -0.506   -2.498   0.634     3.18   117.5   \n",
       "5       a        Au     C53N    -0.07   -5.438   0.914     3.15  264.37   \n",
       "6       a        Au     C95N     7.46   -9.362   1.118     3.16  359.84   \n",
       "7       a        Au  C19NO2v    -0.39   -2.257   0.597      3.1   117.5   \n",
       "\n",
       "     face mode  ...                                   ads_lcao_den_zax  \\\n",
       "0  fcc111   PW  ...  [0.0909999590729343, 0.1819999181458687, 0.272...   \n",
       "1  fcc111   PW  ...  [0.0909999590729343, 0.1819999181458687, 0.272...   \n",
       "2  fcc111   PW  ...  [0.0909999590729343, 0.1819999181458687, 0.272...   \n",
       "3  fcc111   PW  ...  [0.0909999590729343, 0.1819999181458687, 0.272...   \n",
       "4  fcc111   PW  ...  [0.0909999590729343, 0.1819999181458687, 0.272...   \n",
       "5  fcc111   PW  ...  [0.0909999590729343, 0.1819999181458687, 0.272...   \n",
       "6  fcc111   PW  ...  [0.0909999590729343, 0.1819999181458687, 0.272...   \n",
       "7  fcc111   PW  ...  [0.0909999590729343, 0.1819999181458687, 0.272...   \n",
       "\n",
       "                                    ads_lcao_den_val  \\\n",
       "0  [0.0, 0.0, 0.0, 0.0, 0.0, 0.0, 0.0, 0.0, 0.0, ...   \n",
       "1  [0.0, 0.0, 0.0, 0.0, 0.0, 0.0, 0.0, 0.0, 0.0, ...   \n",
       "2  [0.0, 0.0, 0.0, 0.0, 0.0, 0.0, 0.0, 0.0, 0.0, ...   \n",
       "3  [0.0, 0.0, 0.0, 0.0, 0.0, 0.0, 0.0, 0.0, 0.0, ...   \n",
       "4  [0.0, 0.0, 0.0, 0.0, 0.0, 0.0, 0.0, 0.0, 0.0, ...   \n",
       "5  [0.0, 0.0, 0.0, 0.0, 0.0, 0.0, 0.0, 0.0, 0.0, ...   \n",
       "6  [0.0, 0.0, 0.0, 0.0, 0.0, 0.0, 0.0, 0.0, 0.0, ...   \n",
       "7  [0.0, 0.0, 0.0, 0.0, 0.0, 0.0, 0.0, 0.0, 0.0, ...   \n",
       "\n",
       "                                    met_lcao_den_zax  \\\n",
       "0  [0.0909999590729343, 0.1819999181458687, 0.272...   \n",
       "1  [0.0909999590729343, 0.1819999181458687, 0.272...   \n",
       "2  [0.0909999590729343, 0.1819999181458687, 0.272...   \n",
       "3  [0.0909999590729343, 0.1819999181458687, 0.272...   \n",
       "4  [0.0909999590729343, 0.1819999181458687, 0.272...   \n",
       "5  [0.0909999590729343, 0.1819999181458687, 0.272...   \n",
       "6  [0.0909999590729343, 0.1819999181458687, 0.272...   \n",
       "7  [0.0909999590729343, 0.1819999181458687, 0.272...   \n",
       "\n",
       "                                    met_lcao_den_val  \\\n",
       "0  [0.0, 0.0, 0.0, 0.0, 0.0, 0.0, 0.0, 0.0, 0.0, ...   \n",
       "1  [0.0, 0.0, 0.0, 0.0, 0.0, 0.0, 0.0, 0.0, 0.0, ...   \n",
       "2  [0.0, 0.0, 0.0, 0.0, 0.0, 0.0, 0.0, 0.0, 0.0, ...   \n",
       "3  [0.0, 0.0, 0.0, 0.0, 0.0, 0.0, 0.0, 0.0, 0.0, ...   \n",
       "4  [0.0, 0.0, 0.0, 0.0, 0.0, 0.0, 0.0, 0.0, 0.0, ...   \n",
       "5  [0.0, 0.0, 0.0, 0.0, 0.0, 0.0, 0.0, 0.0, 0.0, ...   \n",
       "6  [0.0, 0.0, 0.0, 0.0, 0.0, 0.0, 0.0, 0.0, 0.0, ...   \n",
       "7  [0.0, 0.0, 0.0, 0.0, 0.0, 0.0, 0.0, 0.0, 0.0, ...   \n",
       "\n",
       "                                    sys_cdft_chg_val  \\\n",
       "0  [-0.010574, -0.013575, -0.01323, -0.014091, -0...   \n",
       "1  [-0.036335, -0.039491, -0.009884, -0.011074, -...   \n",
       "2  [-0.058961, -0.047015, -0.00791, -0.023353, -0...   \n",
       "3  [-0.035053, -0.024583, -0.009955, -0.024212, -...   \n",
       "4  [-0.011597, -0.012592, -0.011897, -0.01151, -0...   \n",
       "5  [-0.034409, -0.018307, -0.012476, -0.013182, -...   \n",
       "6  [-0.012195, -0.01341, -0.013687, -0.013358, -0...   \n",
       "7  [-0.018601, -0.016589, -0.01077, -0.01653, -0....   \n",
       "\n",
       "                                    sys_cdft_dip_val  \\\n",
       "0  [-0.119266, -0.115112, -0.115232, -0.114678, -...   \n",
       "1  [-0.164757, -0.162379, -0.11704, -0.116641, -0...   \n",
       "2  [-0.206343, -0.177474, -0.113878, -0.139782, -...   \n",
       "3  [-0.164229, -0.137612, -0.114473, -0.137932, -...   \n",
       "4  [-0.119665, -0.118003, -0.118618, -0.1198, -0....   \n",
       "5  [-0.151464, -0.133229, -0.11765, -0.117465, -0...   \n",
       "6  [-0.119057, -0.118188, -0.118875, -0.11851, -0...   \n",
       "7  [-0.135117, -0.125065, -0.117715, -0.125259, -...   \n",
       "\n",
       "                                    sys_cdft_pot_zax  \\\n",
       "0  [0.091, 0.182, 0.273, 0.364, 0.454999999999999...   \n",
       "1  [0.091, 0.182, 0.273, 0.364, 0.454999999999999...   \n",
       "2  [0.091, 0.182, 0.273, 0.364, 0.454999999999999...   \n",
       "3  [0.091, 0.182, 0.273, 0.364, 0.454999999999999...   \n",
       "4  [0.091, 0.182, 0.273, 0.364, 0.454999999999999...   \n",
       "5  [0.091, 0.182, 0.273, 0.364, 0.454999999999999...   \n",
       "6  [0.091, 0.182, 0.273, 0.364, 0.454999999999999...   \n",
       "7  [0.091, 0.182, 0.273, 0.364, 0.454999999999999...   \n",
       "\n",
       "                                    sys_cdft_pot_val  \\\n",
       "0  [2.7572299264265507, 2.757229480706091, 2.7572...   \n",
       "1  [1.5121774191639776, 1.5121771747126214, 1.512...   \n",
       "2  [1.3352875348058522, 1.3352873189496604, 1.335...   \n",
       "3  [1.3457037466871309, 1.345703529147082, 1.3457...   \n",
       "4  [1.4507972738779498, 1.4507970393489984, 1.450...   \n",
       "5  [0.5935904256941208, 0.5935903297370301, 0.593...   \n",
       "6  [0.3814100014847857, 0.3814099324190053, 0.381...   \n",
       "7  [1.425775457593649, 1.4257752271096216, 1.4257...   \n",
       "\n",
       "                                    sys_cdft_den_zax  \\\n",
       "0  [0.0909999590729343, 0.1819999181458687, 0.272...   \n",
       "1  [0.0909999590729343, 0.1819999181458687, 0.272...   \n",
       "2  [0.0909999590729343, 0.1819999181458687, 0.272...   \n",
       "3  [0.0909999590729343, 0.1819999181458687, 0.272...   \n",
       "4  [0.0909999590729343, 0.1819999181458687, 0.272...   \n",
       "5  [0.0909999590729343, 0.1819999181458687, 0.272...   \n",
       "6  [0.0909999590729343, 0.1819999181458687, 0.272...   \n",
       "7  [0.0909999590729343, 0.1819999181458687, 0.272...   \n",
       "\n",
       "                                    sys_cdft_den_val  \n",
       "0  [0.0, 0.0, 0.0, 0.0, 0.0, 0.0, 0.0, 0.0, 0.0, ...  \n",
       "1  [0.0, 0.0, 0.0, 0.0, 0.0, 0.0, 0.0, 0.0, 0.0, ...  \n",
       "2  [0.0, 0.0, 0.0, 0.0, 0.0, 0.0, 0.0, 0.0, 0.0, ...  \n",
       "3  [0.0, 0.0, 0.0, 0.0, 0.0, 0.0, 0.0, 0.0, 0.0, ...  \n",
       "4  [0.0, 0.0, 0.0, 0.0, 0.0, 0.0, 0.0, 0.0, 0.0, ...  \n",
       "5  [0.0, 0.0, 0.0, 0.0, 0.0, 0.0, 0.0, 0.0, 0.0, ...  \n",
       "6  [0.0, 0.0, 0.0, 0.0, 0.0, 0.0, 0.0, 0.0, 0.0, ...  \n",
       "7  [0.0, 0.0, 0.0, 0.0, 0.0, 0.0, 0.0, 0.0, 0.0, ...  \n",
       "\n",
       "[8 rows x 40 columns]"
      ]
     },
     "execution_count": 13,
     "metadata": {},
     "output_type": "execute_result"
    }
   ],
   "source": [
    "rdf"
   ]
  },
  {
   "cell_type": "code",
   "execution_count": 14,
   "metadata": {
    "id": "yokt5xMTPn3L"
   },
   "outputs": [],
   "source": [
    "systems = []\n",
    "for i in range(len(rdf)):\n",
    "  for calcType in [\"PW\", \"LCAO\", \"cDFT\"]:\n",
    "    systems+=[SurfaceED(rdf.iloc[i], calculationType=calcType)] "
   ]
  },
  {
   "cell_type": "code",
   "execution_count": null,
   "metadata": {
    "id": "tEXEVRVSe7D5"
   },
   "outputs": [],
   "source": [
    "systemsDDEC = []\n",
    "for i in range(len(rdf)):\n",
    "  for calcType in [\"PW\", \"LCAO\", \"cDFT\"]:\n",
    "    systemsDDEC+=[SurfaceDDECAnalysis(rdf.iloc[i], calculationType=calcType)] "
   ]
  },
  {
   "cell_type": "code",
   "execution_count": null,
   "metadata": {
    "id": "-jsBnG8Y7RQ2"
   },
   "outputs": [],
   "source": [
    "#Estimate potential drops for charge differences and Hartree\n",
    "df = pd.DataFrame()\n",
    "\n",
    "potDropsEdDiff = [system.potDropEdDiff for system in systems]\n",
    "potDropsHartree = [system.potDropHartree for system in systems]\n",
    "sigmas = [system.metalCharge for system in systems]\n",
    "distances = [system.distanceBetweenMetalMolecule for system in systems]\n",
    "distancesGeometric = [system.distanceBetweenMetalMoleculeGeometric for system in systems]\n",
    "heteroAtoms = [re.sub(\"[^NOS]\", \"\", system.sysName) for system in systems]\n",
    "sysNames = [system.sysName for system in systems]\n",
    "calcTypes = [system.calculationType for system in systems]\n",
    "areas = [system.electrodeArea for system in systems]\n",
    "\n",
    "#Grab also DDEC data\n",
    "sigmasDDEC =  [system.electrodeChargeDensity for system in systemsDDEC]\n",
    "potDropsDDEC = [system.potDropDDEC for system in systemsDDEC]\n",
    "\n",
    "df[\"sysName\"] = sysNames\n",
    "df[\"calcType\"] = calcTypes\n",
    "df[\"potDropHartree\"] = potDropsHartree\n",
    "df[\"potDropEdDiff\"] = potDropsEdDiff\n",
    "df[\"potDropDDEC\"] = potDropsDDEC\n",
    "df[\"sigma\"] = sigmas\n",
    "df[\"sigma[e]\"] = np.array(sigmas)*np.array(areas)/el_chg/(10**6)*(10**-16)\n",
    "df[\"sigmaDDEC\"] = sigmasDDEC\n",
    "df[\"sigmaDDEC[e]\"] = np.array(sigmasDDEC)*np.array(areas)/el_chg/(10**6)*(10**-16)\n",
    "df[\"distance\"] = distances\n",
    "df[\"distanceGeometric\"] = distancesGeometric\n",
    "df[\"coverage\"] = [getSurfaceCoverage(system.electrodeArea) for system in systems]\n",
    "df[\"heteroAtom\"] = heteroAtoms"
   ]
  },
  {
   "cell_type": "code",
   "execution_count": null,
   "metadata": {
    "colab": {
     "base_uri": "https://localhost:8080/",
     "height": 802
    },
    "id": "qGCuBy7w7RcV",
    "outputId": "5cfc1160-22eb-4ba3-b108-e1b717aebbc9"
   },
   "outputs": [],
   "source": [
    "df"
   ]
  },
  {
   "cell_type": "code",
   "execution_count": null,
   "metadata": {
    "id": "TZKr9AsZv0kb"
   },
   "outputs": [],
   "source": [
    "####This table here is for electron density difference values\n",
    "\n",
    "dfTable = pd.DataFrame()\n",
    "\n",
    "selectionPW = df[df[\"calcType\"]==\"PW\"]\n",
    "selectionCDFT = df[df[\"calcType\"]==\"cDFT\"]\n",
    "\n",
    "dfTable[\"Compound\"] = selectionPW.sysName.values\n",
    "dfTable[\"varphi\"] = selectionPW.potDropEdDiff.values\n",
    "dfTable[\"varphi_cDFT\"] = selectionCDFT.potDropEdDiff.values\n",
    "dfTable[\"sigma\"] = selectionPW.sigma.values\n",
    "dfTable[\"sigma_cDFT\"] = selectionCDFT.sigma.values\n",
    "dfTable[\"q_ion[e]\"] = -selectionPW[\"sigma[e]\"].values\n",
    "dfTable[\"q_ion_cDFT[e]\"] = -selectionCDFT[\"sigma[e]\"].values\n",
    "dfTable[\"l\"] = selectionPW.distance.values\n",
    "dfTable[\"d\"] = selectionPW.distanceGeometric.values\n",
    "dfTable = dfTable.sort_values(by=\"varphi\", ascending=False)"
   ]
  },
  {
   "cell_type": "code",
   "execution_count": null,
   "metadata": {
    "colab": {
     "base_uri": "https://localhost:8080/",
     "height": 300
    },
    "id": "1nk1IM8QwiXf",
    "outputId": "e0f72b6a-e075-4f8b-bdca-cd8d41d3b45f"
   },
   "outputs": [],
   "source": [
    "dfTable"
   ]
  },
  {
   "cell_type": "code",
   "execution_count": null,
   "metadata": {
    "colab": {
     "base_uri": "https://localhost:8080/",
     "height": 300
    },
    "id": "9XJuHHojEzwk",
    "outputId": "58791551-dee2-483d-dc78-2fe5a4d428bb"
   },
   "outputs": [],
   "source": [
    "####This table here is for DDEC values\n",
    "\n",
    "dfTable2 = pd.DataFrame()\n",
    "selectionPW = df[df[\"calcType\"]==\"PW\"]\n",
    "selectionCDFT = df[df[\"calcType\"]==\"cDFT\"]\n",
    "dfTable2[\"Compound\"] = selectionPW.sysName.values\n",
    "dfTable2[\"varphi\"] = selectionPW.potDropDDEC.values\n",
    "dfTable2[\"varphi_cDFT\"] = selectionCDFT.potDropDDEC.values\n",
    "dfTable2[\"sigma\"] = selectionPW.sigmaDDEC.values\n",
    "dfTable2[\"sigma_cDFT\"] = selectionCDFT.sigmaDDEC.values\n",
    "dfTable2[\"q_ion[e]\"] = -selectionPW[\"sigmaDDEC[e]\"].values\n",
    "dfTable2[\"q_ion[e]_cDFT\"] = -selectionCDFT[\"sigmaDDEC[e]\"].values\n",
    "dfTable2 = dfTable2.sort_values(by=\"varphi\", ascending=False)\n",
    "dfTable2"
   ]
  },
  {
   "cell_type": "markdown",
   "metadata": {
    "id": "g65XE3vVF8B9"
   },
   "source": [
    "## Figure illustrating the location of metal-molecule boundary"
   ]
  },
  {
   "cell_type": "code",
   "execution_count": null,
   "metadata": {
    "colab": {
     "base_uri": "https://localhost:8080/",
     "height": 352
    },
    "id": "ne8rGE0AD0zT",
    "outputId": "dcf6679c-b951-4649-d330-dd3bfc917d79"
   },
   "outputs": [],
   "source": [
    "fig, ax = plt.subplots(nrows=1, ncols=1, figsize=(3.33, 3.33), dpi=100)\n",
    "sysIndex = 0\n",
    "print(systems[sysIndex].sysName)\n",
    "ax.plot(systems[sysIndex].z_Ed/10, systems[sysIndex].chgChange*1000, color=\"k\", lw=2)\n",
    "ax.plot(systems[sysIndex].z_Ed/10, systems[sysIndex].chgChange*1000, color=\"k\", lw=2)\n",
    "\n",
    "ax.axvline(systems[sysIndex].metalMoleculeBoundary/10, color=\"blue\", ls=\"--\")\n",
    "ax.set_xlabel(r\"distance, $z$ / nm\", fontsize=10)\n",
    "ax.set_ylabel(r\"charge density difference, $\\Delta\\rho$ / e$\\cdot$nm$^{-3}$\", fontsize=10)\n",
    "\n",
    "\n",
    "ax.set_xlim(0.5, 2.5)\n",
    "x_labels = np.arange(0.5, 2.6, 1)\n",
    "ax.set_xticks(x_labels)\n",
    "ax.set_xticklabels((x_labels-min(x_labels)).round(0).astype(int))\n",
    "ax.xaxis.set_minor_locator(MultipleLocator(0.5))\n",
    "\n",
    "ax.set_ylim(-8, 8)\n",
    "y_labels = np.arange(-8, 9, 4)\n",
    "ax.set_yticks(y_labels)\n",
    "ax.yaxis.set_minor_locator(MultipleLocator(2))\n",
    "\n",
    "ax.tick_params(axis=\"both\", which=\"both\", labelsize=8)\n",
    "#fig.savefig(os.path.join(path,\"deltaRho-vs-distance.svg\"))"
   ]
  },
  {
   "cell_type": "markdown",
   "metadata": {
    "id": "_FloK_VTw300"
   },
   "source": [
    "## Fitting Linear model to sigma × distance vs potential drop"
   ]
  },
  {
   "cell_type": "code",
   "execution_count": null,
   "metadata": {
    "id": "AVv_cEplSaIT"
   },
   "outputs": [],
   "source": [
    "df_PW = df[df[\"calcType\"] == \"PW\"]"
   ]
  },
  {
   "cell_type": "code",
   "execution_count": null,
   "metadata": {
    "colab": {
     "base_uri": "https://localhost:8080/"
    },
    "id": "9ZbwISVJUlMY",
    "outputId": "31fc5835-2a1f-4af9-b17e-657b3b209a53"
   },
   "outputs": [],
   "source": [
    "distanceTimesSigma = df_PW[\"sigma\"].values*df_PW[\"distance\"].values\n",
    "\n",
    "print(\"From WF potential\")\n",
    "\n",
    "ols_WF = LinearRegression(fit_intercept=False)\n",
    "ols_WF.fit(distanceTimesSigma.reshape(-1,1), df_PW[\"potDropHartree\"])\n",
    "print('R2 %3.3f ' % (ols_WF.score(distanceTimesSigma.reshape(-1,1), df_PW[\"potDropHartree\"])))\n",
    "\n",
    "#Fit two point for line illustration\n",
    "X_test = np.asarray([-60,0]).reshape(-1,1)\n",
    "y_test = ols_WF.predict(X_test)\n",
    "\n",
    "ols_coef_WF = ols_WF.coef_[0]\n",
    "print(f\"Incline: {ols_coef_WF}\")\n",
    "\n",
    "epsilon_estimated_WF = 1/(ols_coef_WF*1.602*10**3) #e/V/Angs\n",
    "print(f\"Estimated epsilon: {epsilon_estimated_WF} e/(V*Angs)\")\n",
    "print(f\"eps_estimated/eps0 {epsilon_estimated_WF/eps0}\")"
   ]
  },
  {
   "cell_type": "code",
   "execution_count": 24,
   "metadata": {
    "colab": {
     "base_uri": "https://localhost:8080/"
    },
    "id": "LBWscycA-kgb",
    "outputId": "6ba3621f-6672-43af-8daf-701a6df63443"
   },
   "outputs": [
    {
     "name": "stdout",
     "output_type": "stream",
     "text": [
      "From Charge difference potential\n",
      "R2 0.993 \n",
      "Incline: 0.11271581696807884\n",
      "Estimated epsilon: 0.0055379958388635025 e/(V*Angs)\n",
      "eps_estimated/eps0 1.0021074380247297\n"
     ]
    }
   ],
   "source": [
    "ols_ChgDiff = LinearRegression(fit_intercept=False)\n",
    "ols_ChgDiff.fit(distanceTimesSigma.reshape(-1,1), df_PW[\"potDropEdDiff\"])\n",
    "print(\"From Charge difference potential\")\n",
    "\n",
    "print('R2 %3.3f ' % (ols_ChgDiff.score(distanceTimesSigma.reshape(-1,1), df_PW[\"potDropEdDiff\"])))\n",
    "\n",
    "#Fit two point for line illustration\n",
    "X_test = np.asarray([-60,0]).reshape(-1,1)\n",
    "y_test = ols_ChgDiff.predict(X_test)\n",
    "\n",
    "ols_coef_ChgDiff = ols_ChgDiff.coef_[0]\n",
    "print(f\"Incline: {ols_coef_ChgDiff}\")\n",
    "epsilon_estimated_ChgDiff = 1/(ols_coef_ChgDiff*1.602*10**3) #e/V/Angs\n",
    "print(f\"Estimated epsilon: {epsilon_estimated_ChgDiff} e/(V*Angs)\")\n",
    "print(f\"eps_estimated/eps0 {epsilon_estimated_ChgDiff/eps0}\")"
   ]
  },
  {
   "cell_type": "markdown",
   "metadata": {
    "id": "4c5bMwchHrei"
   },
   "source": [
    "### Figure illustrating charge density × distance vs potential drop"
   ]
  },
  {
   "cell_type": "code",
   "execution_count": 29,
   "metadata": {
    "colab": {
     "base_uri": "https://localhost:8080/",
     "height": 338
    },
    "id": "eQ0aVVo5rAA8",
    "outputId": "363e3de7-04a0-46d6-fff0-344e3cc1af61"
   },
   "outputs": [
    {
     "data": {
      "image/png": "[encoded data removed]",
      "text/plain": [
       "<Figure size 333x333 with 1 Axes>"
      ]
     },
     "metadata": {},
     "output_type": "display_data"
    }
   ],
   "source": [
    "fig, ax1 = plt.subplots(nrows=1, ncols=1, figsize=(3.33, 3.33), dpi=100)\n",
    "ax1.plot(df_PW[\"sigma\"].values*df_PW[\"distance\"].values, df_PW[\"potDropEdDiff\"], 'o', markerfacecolor=\"k\", markeredgecolor=\"k\",  label=r'$\\Delta \\rho$')\n",
    "ax1.plot(X_test, y_test, color=\"k\", ls=\"-\", lw=1.1, label=\"Fitted line\")\n",
    "ax1.set_xlabel(r\"surface dipole, $\\sigma \\ell$ / ($\\mathrm{\\AA} \\cdot \\mathrm{\\mu}$C$\\cdot$cm$^{-2}$)\", fontsize=10)\n",
    "ax1.set_ylabel(r\"potential drop, $\\phi$ / V\", fontsize=10)\n",
    "ax1.set_xlim(-30,0)\n",
    "ax1.set_ylim(-3.5, 0)\n",
    "ax1.set_xticks(np.arange(-30, 1, 10))\n",
    "ax1.xaxis.set_minor_locator(MultipleLocator(5))\n",
    "ax1.set_yticks(np.arange(-3.0, 0.1, 1))\n",
    "ax1.yaxis.set_minor_locator(MultipleLocator(0.5))\n",
    "ax1.tick_params(axis=\"both\", which=\"both\", labelsize=8)\n"
   ]
  },
  {
   "cell_type": "code",
   "execution_count": null,
   "metadata": {
    "id": "GM3WaQwk4SH1"
   },
   "outputs": [],
   "source": []
  }
 ],
 "metadata": {
  "colab": {
   "provenance": []
  },
  "kernelspec": {
   "display_name": "Python 3 (ipykernel)",
   "language": "python",
   "name": "python3"
  },
  "language_info": {
   "codemirror_mode": {
    "name": "ipython",
    "version": 3
   },
   "file_extension": ".py",
   "mimetype": "text/x-python",
   "name": "python",
   "nbconvert_exporter": "python",
   "pygments_lexer": "ipython3",
   "version": "3.9.13"
  }
 },
 "nbformat": 4,
 "nbformat_minor": 1
}
